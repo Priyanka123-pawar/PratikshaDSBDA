{
 "cells": [
  {
   "cell_type": "code",
   "execution_count": 1,
   "id": "dc88662f",
   "metadata": {},
   "outputs": [],
   "source": [
    "import requests"
   ]
  },
  {
   "cell_type": "code",
   "execution_count": 2,
   "id": "7645a1e3",
   "metadata": {},
   "outputs": [],
   "source": [
    "import bs4"
   ]
  },
  {
   "cell_type": "code",
   "execution_count": 3,
   "id": "90f56ceb",
   "metadata": {},
   "outputs": [],
   "source": [
    "#getting data request\n",
    "request1 = requests.get('https://www.flipkart.com/poco-c31-royal-blue-64-gb/p/itm19effae969b86')"
   ]
  },
  {
   "cell_type": "code",
   "execution_count": 4,
   "id": "1aa251bd",
   "metadata": {},
   "outputs": [
    {
     "data": {
      "text/plain": [
       "<Response [500]>"
      ]
     },
     "execution_count": 4,
     "metadata": {},
     "output_type": "execute_result"
    }
   ],
   "source": [
    "request1\n"
   ]
  },
  {
   "cell_type": "code",
   "execution_count": 5,
   "id": "e5dd1fa6",
   "metadata": {},
   "outputs": [
    {
     "data": {
      "text/plain": [
       "b'<html><body><h1>500 Internal Server Error</h1>\\nAn internal server error occurred.\\n</body></html>\\n'"
      ]
     },
     "execution_count": 5,
     "metadata": {},
     "output_type": "execute_result"
    }
   ],
   "source": [
    "request1.content"
   ]
  },
  {
   "cell_type": "code",
   "execution_count": null,
   "id": "fdf1c83e",
   "metadata": {},
   "outputs": [],
   "source": []
  }
 ],
 "metadata": {
  "kernelspec": {
   "display_name": "Python 3 (ipykernel)",
   "language": "python",
   "name": "python3"
  },
  "language_info": {
   "codemirror_mode": {
    "name": "ipython",
    "version": 3
   },
   "file_extension": ".py",
   "mimetype": "text/x-python",
   "name": "python",
   "nbconvert_exporter": "python",
   "pygments_lexer": "ipython3",
   "version": "3.11.5"
  }
 },
 "nbformat": 4,
 "nbformat_minor": 5
}
